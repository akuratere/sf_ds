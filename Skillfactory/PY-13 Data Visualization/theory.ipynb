{
 "cells": [
  {
   "cell_type": "markdown",
   "metadata": {},
   "source": [
    "# Визуализация\n",
    "\n",
    "#### Основные методы визуализации библиотек\n",
    " - Matplotlib\n",
    " - Pandas\n",
    " - Seaborn\n",
    " - Plotly\n",
    "\n",
    "#### Основные типы визуализации\n",
    " - линейный график;\n",
    " - гистограмма;\n",
    " - диаграмма рассеяния;\n",
    " - коробчатая диаграмма;\n",
    " - круговая диаграмма;\n",
    " - столбчатая диаграмма;\n",
    " - тепловая карта."
   ]
  },
  {
   "cell_type": "markdown",
   "metadata": {},
   "source": [
    "# Линейный график\n",
    "\n",
    "* чаще всего используются для визуализации временных рядов, \n",
    "например чтобы отследить динамику продаж во времени, число активных пользователей по дням, изменение курса валют и акций\n",
    "\n",
    "* бывает особенно полезен, когда вы пытаетесь спрогнозировать ряд и вам необходимо увидеть свой прогноз на графике\n",
    "\n",
    "* позволяет выявить тенденцию движения показателя и найти ключевые точки его роста или падения"
   ]
  },
  {
   "cell_type": "markdown",
   "metadata": {},
   "source": [
    "# Гистограмма\n",
    "\n",
    "* способ визуализации частоты попадания признака в некоторый численный интервал\n",
    "\n",
    "* часто используются для оценки распределения числового признака, например мы можем понять, как распределены цены на товары, число шагов, которые делает пользователь умных часов, масса метеоритов, падающих на землю"
   ]
  },
  {
   "cell_type": "markdown",
   "metadata": {},
   "source": [
    "# Диаграмма рассеяния (Scatterplot)\n",
    "\n",
    "* визуализация связи между двумя числовыми переменными\n",
    "\n",
    "* можно увидеть, как зависит (или не зависит) давление от возраста пациента, объём продаж товаров от количества показанной рекламы"
   ]
  },
  {
   "cell_type": "markdown",
   "metadata": {},
   "source": [
    "# Круговая диаграмма (Pie chart)\n",
    "\n",
    "* визуализация для категориального признака\n",
    "\n",
    "* удобны, когда нужно показать, как делится на части что-либо целое\n",
    "\n",
    "* неудобны, когда рассматривается больше одного признака"
   ]
  },
  {
   "cell_type": "markdown",
   "metadata": {},
   "source": [
    "# Столбчатая диаграмма (Bar chart)\n",
    "\n",
    "* сравнение категорий друг с другом\n",
    "\n",
    "* в столбчатые диаграммы можно добавлять разделение по другим категориальным признакам и рассматривать совместное распределение показателей, тем самым повышая информативность. Такие диаграммы называются многоуровневыми"
   ]
  },
  {
   "cell_type": "markdown",
   "metadata": {},
   "source": [
    "# Тепловая карта (Heatmap)\n",
    "\n",
    "* визуализация категорий объектов на изображениях\n",
    "\n",
    "* графическое представление матриц\n",
    "\n",
    "* чаще всего применяются для визуализации сводных таблиц"
   ]
  },
  {
   "cell_type": "markdown",
   "metadata": {},
   "source": [
    "# Коробчатая диаграмма (Boxplot)\n",
    "\n",
    "* показывает распределение числового признака по отношению к предыдущим. Диаграмма основана на понятии квантилей\n",
    "\n",
    "* Для построения коробчатой диаграммы надо знать три характеристики:\n",
    "    — 25 % квантиль\n",
    "    — 50 % квантиль, или медиана\n",
    "    — 75 % квантиль\n",
    "* часто являются более совершенными аналогами гистограмм\n",
    "\n"
   ]
  },
  {
   "cell_type": "markdown",
   "metadata": {},
   "source": [
    "# Базовая визуализация в Pandas\n",
    "\n",
    "**plot()**\n",
    "\n",
    "Параметры:\n",
    "- x — название признака, который будет отложен по оси абсцисс;\n",
    "- y — название признака, который будет отложен по оси ординат;\n",
    "- figsize — размер графика (кортеж из ширины и высоты в дюймах);\n",
    "- kind —тип визуализации. Основные типы:\n",
    "- 'line' — линейный график (по умолчанию);\n",
    "- 'bar' — столбчатая диаграмма;\n",
    "- 'barh' — горизонтальная столбчатая диаграмма;\n",
    "- 'hist' — гистограмма;\n",
    "- 'box' — коробчатая диаграмма (boxplot);\n",
    "- 'pie' — круговая диаграмма;\n",
    "- 'scatter' — диаграмма рассеяния.\n",
    "- grid — отображение сетки (по умолчанию False);\n",
    "- legend — отображение легенды (по умолчанию False);\n",
    "- title — название графика;\n",
    "- color — цвет."
   ]
  },
  {
   "cell_type": "markdown",
   "metadata": {},
   "source": [
    "# Matplotlib\n",
    "\n",
    "Для установки: pip install matplotlib\n",
    "\n",
    "Для импорта:\n",
    "import matplotlib.pyplot as plt\n",
    "<p>%matplotlib inline (Для более корректного отображения графиков в ноутбуках)</p>"
   ]
  },
  {
   "cell_type": "code",
   "execution_count": 3,
   "metadata": {},
   "outputs": [],
   "source": [
    "import matplotlib.pyplot as plt\n",
    "%matplotlib inline"
   ]
  },
  {
   "cell_type": "markdown",
   "metadata": {},
   "source": [
    "Процесс работы над графиком максимально прозрачен: сначала создаётся объект фигуры (fig) , содержащий необходимую информацию и настройки, например размер в дюймах (figsize, восемь дюймов в ширину, четыре — в высоту). \n",
    "\n",
    "К этому объекту с помощью метода add_axes() добавляется координатная плоскость, а на ней располагаются графические объекты. \n",
    "\n",
    "Для создания координатной плоскости необходимо указать её расположение на фигуре в виде списка из координат. В нашем случае она начинается в левом нижнем углу без отступов (координаты 0, 0) и занимает всё отведённое место в области (100%, ширина и высота равны 1)."
   ]
  },
  {
   "cell_type": "code",
   "execution_count": 4,
   "metadata": {},
   "outputs": [
    {
     "data": {
      "image/png": "[encoded data removed]",
      "text/plain": [
       "<Figure size 576x288 with 1 Axes>"
      ]
     },
     "metadata": {
      "needs_background": "light"
     },
     "output_type": "display_data"
    }
   ],
   "source": [
    "fig = plt.figure(figsize=(8, 4))\n",
    "axes = fig.add_axes([0, 0, 1, 1])"
   ]
  },
  {
   "cell_type": "markdown",
   "metadata": {},
   "source": [
    "# Добавление информации на график\n",
    "\n",
    "- axes.set_title() — заголовок диаграммы, а также его настройки (например, параметр fontsize отвечает за размер шрифта);\n",
    "- axes.set_xlabel() — название оси абсцисс;\n",
    "- axes.set_ylabel() — название оси ординат;\n",
    "- axes.set_xticks() — установка отметок на оси абсцисс;\n",
    "- axes.set_yticks() — установка отметок на оси ординат;\n",
    "- axes.xaxis.set_tick_params() — управление параметрами отметок на оси абсцисс (например, параметр rotation отвечает за поворот отметок в градусах);\n",
    "- axes.yaxis.set_tick_params() — управление параметрами отметок на оси ординат;\n",
    "- axes.legend() — отображение легенды;\n",
    "- axes.grid() — установка сетки."
   ]
  }
 ],
 "metadata": {
  "interpreter": {
   "hash": "f74b4ac4fdcb310d4a8b5a0046c1bf8413a3d5ab65ea8847735c66b5b62604e7"
  },
  "kernelspec": {
   "display_name": "Python 3.8.8 ('base')",
   "language": "python",
   "name": "python3"
  },
  "language_info": {
   "codemirror_mode": {
    "name": "ipython",
    "version": 3
   },
   "file_extension": ".py",
   "mimetype": "text/x-python",
   "name": "python",
   "nbconvert_exporter": "python",
   "pygments_lexer": "ipython3",
   "version": "3.8.8"
  },
  "orig_nbformat": 4
 },
 "nbformat": 4,
 "nbformat_minor": 2
}
