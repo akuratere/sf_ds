{
 "cells": [
  {
   "cell_type": "markdown",
   "metadata": {},
   "source": [
    "# Game \"Guess the number\""
   ]
  },
  {
   "cell_type": "markdown",
   "metadata": {},
   "source": [
    "# Guess the number\n",
    "The task is to create a program that guesses the number set by computer itself\n",
    "\n",
    "## Requirements\n",
    "- Computer sets the number from 1 to 100 that we need to guess by using algorithm   \n",
    "- The algorithm uses the information whether the random number is either bigger or smaller than the set number\n",
    "- The algorithm guesses the number in less than 20 tries \n"
   ]
  },
  {
   "cell_type": "code",
   "execution_count": 72,
   "metadata": {},
   "outputs": [],
   "source": [
    "import numpy as np"
   ]
  },
  {
   "cell_type": "code",
   "execution_count": 76,
   "metadata": {},
   "outputs": [],
   "source": [
    "def random_predict(number: int = 1) -> int:\n",
    "    \"\"\"Guessing the numbers randomly by splitting range of numbers into half constantly\n",
    "\n",
    "    Args:\n",
    "        number (int, optional): set number. Defaults to 1.\n",
    "\n",
    "    Returns:\n",
    "        int: number of tries\n",
    "    \"\"\"\n",
    "    import numpy as np\n",
    "\n",
    "    from_number = 1\n",
    "    to_number = 101\n",
    "    \n",
    "    number = np.random.randint(from_number, to_number)\n",
    "    count = 0\n",
    "\n",
    "    while True:\n",
    "        count+=1\n",
    "        middle = (from_number+to_number) // 2\n",
    "    \n",
    "        if number < middle:\n",
    "            to_number = middle\n",
    "            \n",
    "        elif number > middle:\n",
    "            from_number = middle\n",
    "            \n",
    "        else:\n",
    "            break #end of story, leaving the game\n",
    "    return count"
   ]
  },
  {
   "cell_type": "code",
   "execution_count": 77,
   "metadata": {},
   "outputs": [
    {
     "name": "stdout",
     "output_type": "stream",
     "text": [
      "Ваш алгоритм угадывает число в среднем за: 5 попытки\n"
     ]
    }
   ],
   "source": [
    "def score_game(random_predict) -> int:\n",
    "    \"\"\"Average amount of tries when number is being guessed 1000 times\n",
    "\n",
    "    Args:\n",
    "        random_predict ([type]): function of guessing the number\n",
    "\n",
    "    Returns:\n",
    "        int: average amount of tries\n",
    "    \"\"\"\n",
    "    count_ls = []\n",
    "    np.random.seed(1)  # fixed seed\n",
    "    random_array = np.random.randint(1, 101, size=(1000))  # creating a list of random numbers\n",
    "\n",
    "    for number in random_array:\n",
    "        count_ls.append(random_predict(number))\n",
    "\n",
    "    score = int(np.mean(count_ls))\n",
    "    print(f\"Ваш алгоритм угадывает число в среднем за: {score} попытки\")\n",
    "    \n",
    "score_game(random_predict)"
   ]
  }
 ],
 "metadata": {
  "interpreter": {
   "hash": "f74b4ac4fdcb310d4a8b5a0046c1bf8413a3d5ab65ea8847735c66b5b62604e7"
  },
  "kernelspec": {
   "display_name": "Python 3.8.8 ('base')",
   "language": "python",
   "name": "python3"
  },
  "language_info": {
   "codemirror_mode": {
    "name": "ipython",
    "version": 3
   },
   "file_extension": ".py",
   "mimetype": "text/x-python",
   "name": "python",
   "nbconvert_exporter": "python",
   "pygments_lexer": "ipython3",
   "version": "3.8.8"
  },
  "orig_nbformat": 4
 },
 "nbformat": 4,
 "nbformat_minor": 2
}
